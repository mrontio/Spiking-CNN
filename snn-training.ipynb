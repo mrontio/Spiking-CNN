{
 "cells": [
  {
   "cell_type": "code",
   "execution_count": 33,
   "id": "2e0d3330-3069-41b4-92b1-9da97132c4ca",
   "metadata": {
    "collapsed": false
   },
   "outputs": [],
   "source": [
    "from tonic.datasets.nmnist import NMNIST\n",
    "from torch import nn\n",
    "from torch.nn import functional as F\n",
    "import torch\n",
    "from torch.utils.data import DataLoader\n",
    "from torch.optim import SGD\n",
    "from tqdm import tqdm\n",
    "from torch.nn import CrossEntropyLoss\n",
    "import matplotlib.pyplot as plt\n",
    "import math\n",
    "import numpy as np\n",
    "\n",
    "\n",
    "root_dir = './nmnist'\n",
    "_ = NMNIST(save_to=root_dir, train=True)\n",
    "_ = NMNIST(save_to=root_dir, train=False)"
   ]
  },
  {
   "cell_type": "code",
   "execution_count": 2,
   "id": "221ac35f-805a-414c-9e69-ecc184c9c339",
   "metadata": {
    "collapsed": false
   },
   "outputs": [],
   "source": [
    "from tonic.transforms import ToFrame\n",
    "from tonic.datasets import nmnist\n",
    "\n",
    "batch_size = 4\n",
    "num_workers = 4\n",
    "device = \"cuda:0\"\n",
    "shuffle = True\n",
    "\n",
    "# Transform that accumulates events into single frame image\n",
    "to_frame = ToFrame(sensor_size=NMNIST.sensor_size, n_time_bins=1)\n",
    "\n",
    "train_dataset = NMNIST(save_to=root_dir, train=True, transform=to_frame)\n",
    "test_dataset = NMNIST(save_to=root_dir, train=False, transform=to_frame)\n",
    "train_dataloader = DataLoader(train_dataset, batch_size=batch_size, num_workers=num_workers, drop_last=True, shuffle=shuffle)\n",
    "test_dataloader = DataLoader(test_dataset, batch_size=batch_size, num_workers=num_workers, drop_last=True, shuffle=shuffle)"
   ]
  },
  {
   "cell_type": "code",
   "execution_count": 3,
   "id": "cc579952-7899-48c4-b5d6-ede02e0e1d69",
   "metadata": {
    "collapsed": false
   },
   "outputs": [],
   "source": [
    "model_linear = nn.Sequential(\n",
    "    # [2, 34, 34] -> [10]\n",
    "    nn.Linear(2 * 34 * 34, 10),\n",
    "    nn.ReLU(),\n",
    ")"
   ]
  },
  {
   "cell_type": "code",
   "execution_count": 4,
   "id": "d014191a-9f3a-4049-8d71-17317f8e3793",
   "metadata": {
    "collapsed": false
   },
   "outputs": [],
   "source": [
    "model_conv_linear = nn.Sequential(\n",
    "    # [2, 34, 34] -> [8, 17, 17]\n",
    "    nn.Conv2d(in_channels=2, out_channels=8, kernel_size=(3,3), padding=(1,1), bias=False),\n",
    "    nn.ReLU(),\n",
    "    nn.Flatten(),\n",
    "    nn.Linear(9248, 10, bias=False),\n",
    "    nn.ReLU()\n",
    ")"
   ]
  },
  {
   "cell_type": "code",
   "execution_count": 5,
   "id": "ff798178-43e2-4185-b587-17c6ff6ec6aa",
   "metadata": {
    "collapsed": false
   },
   "outputs": [],
   "source": [
    "model_conv_avg_linear = nn.Sequential(\n",
    "    # [2, 34, 34] -> [8, 17, 17]\n",
    "    nn.Conv2d(in_channels=2, out_channels=8, kernel_size=(3,3), padding=(1,1), bias=False),\n",
    "    nn.ReLU(),\n",
    "    nn.Flatten(),\n",
    "    nn.Linear(9248, 10, bias=False),\n",
    "    nn.ReLU()\n",
    ")"
   ]
  },
  {
   "cell_type": "code",
   "execution_count": 6,
   "id": "9ae85f35-53da-4212-beaa-59c5efbe013e",
   "metadata": {
    "collapsed": false
   },
   "outputs": [],
   "source": [
    "model_sinabs = nn.Sequential(\n",
    "    # [2, 34, 34] -> [8, 17, 17]\n",
    "    nn.Conv2d(in_channels=2, out_channels=8, kernel_size=(3,3), padding=(1,1), bias=False),\n",
    "    nn.ReLU(),\n",
    "    nn.AvgPool2d(2, 2),\n",
    "    \n",
    "    # [8, 17, 17] -> [16, 8, 8]\n",
    "    nn.Conv2d(in_channels=8, out_channels=16, kernel_size=(3,3), padding=(1,1), bias=False),\n",
    "    nn.ReLU(),\n",
    "    nn.AvgPool2d(2,2),\n",
    "    \n",
    "    # [16, 8, 8] -> [16, 4, 4]\n",
    "    nn.Conv2d(in_channels=16, out_channels=16, kernel_size = (3,3), padding=(1,1), stride=(2,2), bias=False),\n",
    "    nn.ReLU(),\n",
    "    \n",
    "    # [16 * 4 * 4] -> [10]\n",
    "    nn.Flatten(),\n",
    "    nn.Linear(16 * 4 * 4, 10, bias=False),\n",
    "    nn.ReLU()\n",
    ")"
   ]
  },
  {
   "cell_type": "code",
   "execution_count": 7,
   "id": "90246518-b018-4cd7-8c24-54039ab7407e",
   "metadata": {
    "collapsed": false
   },
   "outputs": [
    {
     "name": "stderr",
     "output_type": "stream",
     "text": [
      "\r",
      "Epoch 1/10:   0%|          | 0/15000 [00:00<?, ?it/s]"
     ]
    },
    {
     "name": "stderr",
     "output_type": "stream",
     "text": [
      "\r",
      "Epoch 1/10:   2%|▏         | 339/15000 [00:01<00:43, 338.98it/s]"
     ]
    },
    {
     "name": "stderr",
     "output_type": "stream",
     "text": [
      "\r",
      "Epoch 1/10:   8%|▊         | 1167/15000 [00:02<00:22, 626.46it/s]"
     ]
    },
    {
     "name": "stderr",
     "output_type": "stream",
     "text": [
      "\r",
      "Epoch 1/10:  14%|█▍        | 2075/15000 [00:03<00:17, 754.86it/s]"
     ]
    },
    {
     "name": "stderr",
     "output_type": "stream",
     "text": [
      "\r",
      "Epoch 1/10:  20%|█▉        | 2983/15000 [00:04<00:14, 815.13it/s]"
     ]
    },
    {
     "name": "stderr",
     "output_type": "stream",
     "text": [
      "\r",
      "Epoch 1/10:  26%|██▌       | 3859/15000 [00:05<00:13, 836.98it/s]"
     ]
    },
    {
     "name": "stderr",
     "output_type": "stream",
     "text": [
      "\r",
      "Epoch 1/10:  32%|███▏      | 4732/15000 [00:06<00:12, 849.02it/s]"
     ]
    },
    {
     "name": "stderr",
     "output_type": "stream",
     "text": [
      "\r",
      "Epoch 1/10:  37%|███▋      | 5624/15000 [00:07<00:10, 863.01it/s]"
     ]
    },
    {
     "name": "stderr",
     "output_type": "stream",
     "text": [
      "\r",
      "Epoch 1/10:  43%|████▎     | 6505/15000 [00:08<00:09, 868.68it/s]"
     ]
    },
    {
     "name": "stderr",
     "output_type": "stream",
     "text": [
      "\r",
      "Epoch 1/10:  49%|████▉     | 7392/15000 [00:09<00:08, 874.33it/s]"
     ]
    },
    {
     "name": "stderr",
     "output_type": "stream",
     "text": [
      "\r",
      "Epoch 1/10:  55%|█████▌    | 8267/15000 [00:10<00:07, 872.92it/s]"
     ]
    },
    {
     "name": "stderr",
     "output_type": "stream",
     "text": [
      "\r",
      "Epoch 1/10:  61%|██████    | 9140/15000 [00:11<00:06, 868.48it/s]"
     ]
    },
    {
     "name": "stderr",
     "output_type": "stream",
     "text": [
      "\r",
      "Epoch 1/10:  67%|██████▋   | 10009/15000 [00:12<00:05, 866.80it/s]"
     ]
    },
    {
     "name": "stderr",
     "output_type": "stream",
     "text": [
      "\r",
      "Epoch 1/10:  73%|███████▎  | 10876/15000 [00:13<00:04, 853.83it/s]"
     ]
    },
    {
     "name": "stderr",
     "output_type": "stream",
     "text": [
      "\r",
      "Epoch 1/10:  78%|███████▊  | 11733/15000 [00:14<00:03, 854.22it/s]"
     ]
    },
    {
     "name": "stderr",
     "output_type": "stream",
     "text": [
      "\r",
      "Epoch 1/10:  84%|████████▍ | 12597/15000 [00:15<00:02, 857.07it/s]"
     ]
    },
    {
     "name": "stderr",
     "output_type": "stream",
     "text": [
      "\r",
      "Epoch 1/10:  90%|████████▉ | 13487/15000 [00:16<00:01, 866.88it/s]"
     ]
    },
    {
     "name": "stderr",
     "output_type": "stream",
     "text": [
      "\r",
      "Epoch 1/10:  96%|█████████▌| 14355/15000 [00:17<00:00, 862.73it/s]"
     ]
    },
    {
     "name": "stderr",
     "output_type": "stream",
     "text": [
      "\r",
      "                                                                  "
     ]
    },
    {
     "name": "stderr",
     "output_type": "stream",
     "text": [
      "\r"
     ]
    },
    {
     "name": "stderr",
     "output_type": "stream",
     "text": [
      "\r",
      "Epoch 0, testing model.:   0%|          | 0/2500 [00:00<?, ?it/s]"
     ]
    },
    {
     "name": "stderr",
     "output_type": "stream",
     "text": [
      "\r",
      "Epoch 0, testing model.:  44%|████▍     | 1097/2500 [00:01<00:01, 1096.50it/s]"
     ]
    },
    {
     "name": "stderr",
     "output_type": "stream",
     "text": [
      "\r",
      "Epoch 0, testing model.:  88%|████████▊ | 2194/2500 [00:02<00:00, 997.01it/s] "
     ]
    },
    {
     "name": "stderr",
     "output_type": "stream",
     "text": [
      "\r",
      "Epoch 0, testing model.: 100%|██████████| 2500/2500 [00:02<00:00, 1010.54it/s]"
     ]
    },
    {
     "name": "stderr",
     "output_type": "stream",
     "text": [
      "\n"
     ]
    },
    {
     "name": "stdout",
     "output_type": "stream",
     "text": [
      "\n",
      "Epoch 0 - accuracy: 79.53%\n"
     ]
    },
    {
     "name": "stderr",
     "output_type": "stream",
     "text": [
      "\r",
      "Epoch 2/10:   0%|          | 0/15000 [00:00<?, ?it/s]"
     ]
    },
    {
     "name": "stderr",
     "output_type": "stream",
     "text": [
      "\r",
      "Epoch 2/10:   6%|▌         | 845/15000 [00:01<00:16, 844.75it/s]"
     ]
    },
    {
     "name": "stderr",
     "output_type": "stream",
     "text": [
      "\r",
      "Epoch 2/10:  11%|█▏        | 1721/15000 [00:02<00:15, 862.62it/s]"
     ]
    },
    {
     "name": "stderr",
     "output_type": "stream",
     "text": [
      "\r",
      "Epoch 2/10:  17%|█▋        | 2598/15000 [00:03<00:14, 868.81it/s]"
     ]
    },
    {
     "name": "stderr",
     "output_type": "stream",
     "text": [
      "\r",
      "Epoch 2/10:  23%|██▎       | 3520/15000 [00:04<00:12, 889.56it/s]"
     ]
    },
    {
     "name": "stderr",
     "output_type": "stream",
     "text": [
      "\r",
      "Epoch 2/10:  29%|██▉       | 4410/15000 [00:05<00:11, 883.50it/s]"
     ]
    },
    {
     "name": "stderr",
     "output_type": "stream",
     "text": [
      "\r",
      "Epoch 2/10:  36%|███▌      | 5339/15000 [00:06<00:10, 898.60it/s]"
     ]
    },
    {
     "name": "stderr",
     "output_type": "stream",
     "text": [
      "\r",
      "Epoch 2/10:  42%|████▏     | 6268/15000 [00:07<00:09, 908.33it/s]"
     ]
    },
    {
     "name": "stderr",
     "output_type": "stream",
     "text": [
      "\r",
      "Epoch 2/10:  48%|████▊     | 7177/15000 [00:08<00:08, 901.59it/s]"
     ]
    },
    {
     "name": "stderr",
     "output_type": "stream",
     "text": [
      "\r",
      "Epoch 2/10:  54%|█████▍    | 8079/15000 [00:09<00:07, 872.08it/s]"
     ]
    },
    {
     "name": "stderr",
     "output_type": "stream",
     "text": [
      "\r",
      "Epoch 2/10:  60%|█████▉    | 8954/15000 [00:10<00:06, 867.34it/s]"
     ]
    },
    {
     "name": "stderr",
     "output_type": "stream",
     "text": [
      "\r",
      "Epoch 2/10:  66%|██████▌   | 9868/15000 [00:11<00:05, 881.03it/s]"
     ]
    },
    {
     "name": "stderr",
     "output_type": "stream",
     "text": [
      "\r",
      "Epoch 2/10:  72%|███████▏  | 10777/15000 [00:12<00:04, 889.24it/s]"
     ]
    },
    {
     "name": "stderr",
     "output_type": "stream",
     "text": [
      "\r",
      "Epoch 2/10:  78%|███████▊  | 11668/15000 [00:13<00:03, 861.16it/s]"
     ]
    },
    {
     "name": "stderr",
     "output_type": "stream",
     "text": [
      "\r",
      "Epoch 2/10:  84%|████████▎ | 12532/15000 [00:14<00:02, 855.65it/s]"
     ]
    },
    {
     "name": "stderr",
     "output_type": "stream",
     "text": [
      "\r",
      "Epoch 2/10:  90%|████████▉ | 13443/15000 [00:15<00:01, 871.87it/s]"
     ]
    },
    {
     "name": "stderr",
     "output_type": "stream",
     "text": [
      "\r",
      "Epoch 2/10:  95%|█████████▌| 14317/15000 [00:16<00:00, 849.16it/s]"
     ]
    },
    {
     "name": "stderr",
     "output_type": "stream",
     "text": [
      "\r",
      "                                                                  "
     ]
    },
    {
     "name": "stderr",
     "output_type": "stream",
     "text": [
      "\r"
     ]
    },
    {
     "name": "stderr",
     "output_type": "stream",
     "text": [
      "\r",
      "Epoch 1, testing model.:   0%|          | 0/2500 [00:00<?, ?it/s]"
     ]
    },
    {
     "name": "stderr",
     "output_type": "stream",
     "text": [
      "\r",
      "Epoch 1, testing model.:  52%|█████▏    | 1297/2500 [00:01<00:00, 1296.15it/s]"
     ]
    },
    {
     "name": "stderr",
     "output_type": "stream",
     "text": [
      "\r",
      "Epoch 1, testing model.: 100%|██████████| 2500/2500 [00:01<00:00, 1258.38it/s]"
     ]
    },
    {
     "name": "stderr",
     "output_type": "stream",
     "text": [
      "\n"
     ]
    },
    {
     "name": "stdout",
     "output_type": "stream",
     "text": [
      "\n",
      "Epoch 1 - accuracy: 81.06%\n"
     ]
    },
    {
     "name": "stderr",
     "output_type": "stream",
     "text": [
      "\r",
      "Epoch 3/10:   0%|          | 0/15000 [00:00<?, ?it/s]"
     ]
    },
    {
     "name": "stderr",
     "output_type": "stream",
     "text": [
      "\r",
      "Epoch 3/10:   5%|▌         | 795/15000 [00:01<00:17, 793.69it/s]"
     ]
    },
    {
     "name": "stderr",
     "output_type": "stream",
     "text": [
      "\r",
      "Epoch 3/10:  11%|█         | 1594/15000 [00:02<00:16, 796.57it/s]"
     ]
    },
    {
     "name": "stderr",
     "output_type": "stream",
     "text": [
      "\r",
      "Epoch 3/10:  17%|█▋        | 2487/15000 [00:03<00:14, 840.50it/s]"
     ]
    },
    {
     "name": "stderr",
     "output_type": "stream",
     "text": [
      "\r",
      "Epoch 3/10:  22%|██▏       | 3361/15000 [00:04<00:13, 853.66it/s]"
     ]
    },
    {
     "name": "stderr",
     "output_type": "stream",
     "text": [
      "\r",
      "Epoch 3/10:  28%|██▊       | 4272/15000 [00:05<00:12, 874.21it/s]"
     ]
    },
    {
     "name": "stderr",
     "output_type": "stream",
     "text": [
      "\r",
      "Epoch 3/10:  34%|███▍      | 5147/15000 [00:06<00:11, 874.18it/s]"
     ]
    },
    {
     "name": "stderr",
     "output_type": "stream",
     "text": [
      "\r",
      "Epoch 3/10:  40%|████      | 6059/15000 [00:07<00:10, 886.28it/s]"
     ]
    },
    {
     "name": "stderr",
     "output_type": "stream",
     "text": [
      "\r",
      "Epoch 3/10:  46%|████▋     | 6951/15000 [00:08<00:09, 888.07it/s]"
     ]
    },
    {
     "name": "stderr",
     "output_type": "stream",
     "text": [
      "\r",
      "Epoch 3/10:  52%|█████▏    | 7840/15000 [00:09<00:08, 883.76it/s]"
     ]
    },
    {
     "name": "stderr",
     "output_type": "stream",
     "text": [
      "\r",
      "Epoch 3/10:  58%|█████▊    | 8758/15000 [00:10<00:06, 894.20it/s]"
     ]
    },
    {
     "name": "stderr",
     "output_type": "stream",
     "text": [
      "\r",
      "Epoch 3/10:  64%|██████▍   | 9653/15000 [00:11<00:06, 879.98it/s]"
     ]
    },
    {
     "name": "stderr",
     "output_type": "stream",
     "text": [
      "\r",
      "Epoch 3/10:  70%|███████   | 10567/15000 [00:12<00:04, 890.01it/s]"
     ]
    },
    {
     "name": "stderr",
     "output_type": "stream",
     "text": [
      "\r",
      "Epoch 3/10:  77%|███████▋  | 11514/15000 [00:13<00:03, 907.11it/s]"
     ]
    },
    {
     "name": "stderr",
     "output_type": "stream",
     "text": [
      "\r",
      "Epoch 3/10:  83%|████████▎ | 12422/15000 [00:14<00:02, 896.82it/s]"
     ]
    },
    {
     "name": "stderr",
     "output_type": "stream",
     "text": [
      "\r",
      "Epoch 3/10:  89%|████████▉ | 13320/15000 [00:15<00:01, 876.21it/s]"
     ]
    },
    {
     "name": "stderr",
     "output_type": "stream",
     "text": [
      "\r",
      "Epoch 3/10:  95%|█████████▍| 14215/15000 [00:16<00:00, 881.67it/s]"
     ]
    },
    {
     "name": "stderr",
     "output_type": "stream",
     "text": [
      "\r",
      "                                                                  "
     ]
    },
    {
     "name": "stderr",
     "output_type": "stream",
     "text": [
      "\r"
     ]
    },
    {
     "name": "stderr",
     "output_type": "stream",
     "text": [
      "\r",
      "Epoch 2, testing model.:   0%|          | 0/2500 [00:00<?, ?it/s]"
     ]
    },
    {
     "name": "stderr",
     "output_type": "stream",
     "text": [
      "\r",
      "Epoch 2, testing model.:  50%|████▉     | 1238/2500 [00:01<00:01, 1236.75it/s]"
     ]
    },
    {
     "name": "stderr",
     "output_type": "stream",
     "text": [
      "\r",
      "Epoch 2, testing model.:  99%|█████████▉| 2483/2500 [00:02<00:00, 1241.52it/s]"
     ]
    },
    {
     "name": "stderr",
     "output_type": "stream",
     "text": [
      "\r",
      "Epoch 2, testing model.: 100%|██████████| 2500/2500 [00:02<00:00, 1234.48it/s]"
     ]
    },
    {
     "name": "stderr",
     "output_type": "stream",
     "text": [
      "\n"
     ]
    },
    {
     "name": "stdout",
     "output_type": "stream",
     "text": [
      "\n",
      "Epoch 2 - accuracy: 91.88%\n"
     ]
    },
    {
     "name": "stderr",
     "output_type": "stream",
     "text": [
      "\r",
      "Epoch 4/10:   0%|          | 0/15000 [00:00<?, ?it/s]"
     ]
    },
    {
     "name": "stderr",
     "output_type": "stream",
     "text": [
      "\r",
      "Epoch 4/10:   6%|▌         | 874/15000 [00:01<00:16, 873.46it/s]"
     ]
    },
    {
     "name": "stderr",
     "output_type": "stream",
     "text": [
      "\r",
      "Epoch 4/10:  12%|█▏        | 1798/15000 [00:02<00:14, 902.54it/s]"
     ]
    },
    {
     "name": "stderr",
     "output_type": "stream",
     "text": [
      "\r",
      "Epoch 4/10:  18%|█▊        | 2701/15000 [00:03<00:14, 868.31it/s]"
     ]
    },
    {
     "name": "stderr",
     "output_type": "stream",
     "text": [
      "\r",
      "Epoch 4/10:  24%|██▍       | 3571/15000 [00:04<00:13, 848.14it/s]"
     ]
    },
    {
     "name": "stderr",
     "output_type": "stream",
     "text": [
      "\r",
      "Epoch 4/10:  30%|██▉       | 4448/15000 [00:05<00:12, 857.99it/s]"
     ]
    },
    {
     "name": "stderr",
     "output_type": "stream",
     "text": [
      "\r",
      "Epoch 4/10:  36%|███▌      | 5356/15000 [00:06<00:11, 874.43it/s]"
     ]
    },
    {
     "name": "stderr",
     "output_type": "stream",
     "text": [
      "\r",
      "Epoch 4/10:  43%|████▎     | 6396/15000 [00:07<00:09, 927.78it/s]"
     ]
    },
    {
     "name": "stderr",
     "output_type": "stream",
     "text": [
      "\r",
      "Epoch 4/10:  49%|████▉     | 7408/15000 [00:08<00:07, 954.17it/s]"
     ]
    },
    {
     "name": "stderr",
     "output_type": "stream",
     "text": [
      "\r",
      "Epoch 4/10:  56%|█████▋    | 8473/15000 [00:09<00:06, 988.52it/s]"
     ]
    },
    {
     "name": "stderr",
     "output_type": "stream",
     "text": [
      "\r",
      "Epoch 4/10:  63%|██████▎   | 9495/15000 [00:10<00:05, 998.65it/s]"
     ]
    },
    {
     "name": "stderr",
     "output_type": "stream",
     "text": [
      "\r",
      "Epoch 4/10:  70%|███████   | 10517/15000 [00:11<00:04, 1005.47it/s]"
     ]
    },
    {
     "name": "stderr",
     "output_type": "stream",
     "text": [
      "\r",
      "Epoch 4/10:  77%|███████▋  | 11571/15000 [00:12<00:03, 1020.01it/s]"
     ]
    },
    {
     "name": "stderr",
     "output_type": "stream",
     "text": [
      "\r",
      "Epoch 4/10:  84%|████████▍ | 12624/15000 [00:13<00:02, 1029.71it/s]"
     ]
    },
    {
     "name": "stderr",
     "output_type": "stream",
     "text": [
      "\r",
      "Epoch 4/10:  91%|█████████▏| 13694/15000 [00:14<00:01, 1041.79it/s]"
     ]
    },
    {
     "name": "stderr",
     "output_type": "stream",
     "text": [
      "\r",
      "Epoch 4/10:  98%|█████████▊| 14737/15000 [00:15<00:00, 1041.09it/s]"
     ]
    },
    {
     "name": "stderr",
     "output_type": "stream",
     "text": [
      "\r",
      "                                                                   "
     ]
    },
    {
     "name": "stderr",
     "output_type": "stream",
     "text": [
      "\r"
     ]
    },
    {
     "name": "stderr",
     "output_type": "stream",
     "text": [
      "\r",
      "Epoch 3, testing model.:   0%|          | 0/2500 [00:00<?, ?it/s]"
     ]
    },
    {
     "name": "stderr",
     "output_type": "stream",
     "text": [
      "\r",
      "Epoch 3, testing model.:  57%|█████▋    | 1423/2500 [00:01<00:00, 1422.31it/s]"
     ]
    },
    {
     "name": "stderr",
     "output_type": "stream",
     "text": [
      "\r",
      "Epoch 3, testing model.: 100%|██████████| 2500/2500 [00:01<00:00, 1440.75it/s]"
     ]
    },
    {
     "name": "stderr",
     "output_type": "stream",
     "text": [
      "\n"
     ]
    },
    {
     "name": "stdout",
     "output_type": "stream",
     "text": [
      "\n",
      "Epoch 3 - accuracy: 93.04%\n"
     ]
    },
    {
     "name": "stderr",
     "output_type": "stream",
     "text": [
      "\r",
      "Epoch 5/10:   0%|          | 0/15000 [00:00<?, ?it/s]"
     ]
    },
    {
     "name": "stderr",
     "output_type": "stream",
     "text": [
      "\r",
      "Epoch 5/10:   6%|▌         | 887/15000 [00:01<00:15, 886.62it/s]"
     ]
    },
    {
     "name": "stderr",
     "output_type": "stream",
     "text": [
      "\r",
      "Epoch 5/10:  13%|█▎        | 1927/15000 [00:02<00:13, 976.14it/s]"
     ]
    },
    {
     "name": "stderr",
     "output_type": "stream",
     "text": [
      "\r",
      "Epoch 5/10:  19%|█▉        | 2906/15000 [00:03<00:12, 977.09it/s]"
     ]
    },
    {
     "name": "stderr",
     "output_type": "stream",
     "text": [
      "\r",
      "Epoch 5/10:  26%|██▌       | 3917/15000 [00:04<00:11, 990.29it/s]"
     ]
    },
    {
     "name": "stderr",
     "output_type": "stream",
     "text": [
      "\r",
      "Epoch 5/10:  33%|███▎      | 5018/15000 [00:05<00:09, 1030.04it/s]"
     ]
    },
    {
     "name": "stderr",
     "output_type": "stream",
     "text": [
      "\r",
      "Epoch 5/10:  40%|████      | 6064/15000 [00:06<00:08, 1035.37it/s]"
     ]
    },
    {
     "name": "stderr",
     "output_type": "stream",
     "text": [
      "\r",
      "Epoch 5/10:  48%|████▊     | 7138/15000 [00:07<00:07, 1047.60it/s]"
     ]
    },
    {
     "name": "stderr",
     "output_type": "stream",
     "text": [
      "\r",
      "Epoch 5/10:  55%|█████▍    | 8190/15000 [00:08<00:06, 1048.82it/s]"
     ]
    },
    {
     "name": "stderr",
     "output_type": "stream",
     "text": [
      "\r",
      "Epoch 5/10:  62%|██████▏   | 9242/15000 [00:09<00:05, 1049.58it/s]"
     ]
    },
    {
     "name": "stderr",
     "output_type": "stream",
     "text": [
      "\r",
      "Epoch 5/10:  69%|██████▊   | 10308/15000 [00:10<00:04, 1054.44it/s]"
     ]
    },
    {
     "name": "stderr",
     "output_type": "stream",
     "text": [
      "\r",
      "Epoch 5/10:  76%|███████▌  | 11378/15000 [00:11<00:03, 1059.04it/s]"
     ]
    },
    {
     "name": "stderr",
     "output_type": "stream",
     "text": [
      "\r",
      "Epoch 5/10:  83%|████████▎ | 12438/15000 [00:12<00:02, 1048.21it/s]"
     ]
    },
    {
     "name": "stderr",
     "output_type": "stream",
     "text": [
      "\r",
      "Epoch 5/10:  90%|█████████ | 13503/15000 [00:13<00:01, 1053.10it/s]"
     ]
    },
    {
     "name": "stderr",
     "output_type": "stream",
     "text": [
      "\r",
      "Epoch 5/10:  97%|█████████▋| 14557/15000 [00:14<00:00, 1043.09it/s]"
     ]
    },
    {
     "name": "stderr",
     "output_type": "stream",
     "text": [
      "\r",
      "                                                                   "
     ]
    },
    {
     "name": "stderr",
     "output_type": "stream",
     "text": [
      "\r"
     ]
    },
    {
     "name": "stderr",
     "output_type": "stream",
     "text": [
      "\r",
      "Epoch 4, testing model.:   0%|          | 0/2500 [00:00<?, ?it/s]"
     ]
    },
    {
     "name": "stderr",
     "output_type": "stream",
     "text": [
      "\r",
      "Epoch 4, testing model.:  60%|██████    | 1501/2500 [00:01<00:00, 1500.39it/s]"
     ]
    },
    {
     "name": "stderr",
     "output_type": "stream",
     "text": [
      "\r",
      "Epoch 4, testing model.: 100%|██████████| 2500/2500 [00:01<00:00, 1436.03it/s]"
     ]
    },
    {
     "name": "stderr",
     "output_type": "stream",
     "text": [
      "\n"
     ]
    },
    {
     "name": "stdout",
     "output_type": "stream",
     "text": [
      "\n",
      "Epoch 4 - accuracy: 93.99%\n"
     ]
    },
    {
     "name": "stderr",
     "output_type": "stream",
     "text": [
      "\r",
      "Epoch 6/10:   0%|          | 0/15000 [00:00<?, ?it/s]"
     ]
    },
    {
     "name": "stderr",
     "output_type": "stream",
     "text": [
      "\r",
      "Epoch 6/10:   6%|▌         | 921/15000 [00:01<00:15, 920.46it/s]"
     ]
    },
    {
     "name": "stderr",
     "output_type": "stream",
     "text": [
      "\r",
      "Epoch 6/10:  13%|█▎        | 1976/15000 [00:02<00:13, 999.36it/s]"
     ]
    },
    {
     "name": "stderr",
     "output_type": "stream",
     "text": [
      "\r",
      "Epoch 6/10:  20%|█▉        | 2978/15000 [00:03<00:12, 1000.47it/s]"
     ]
    },
    {
     "name": "stderr",
     "output_type": "stream",
     "text": [
      "\r",
      "Epoch 6/10:  27%|██▋       | 4031/15000 [00:04<00:10, 1021.11it/s]"
     ]
    },
    {
     "name": "stderr",
     "output_type": "stream",
     "text": [
      "\r",
      "Epoch 6/10:  34%|███▎      | 5056/15000 [00:05<00:09, 1022.42it/s]"
     ]
    },
    {
     "name": "stderr",
     "output_type": "stream",
     "text": [
      "\r",
      "Epoch 6/10:  41%|████      | 6088/15000 [00:06<00:08, 1025.53it/s]"
     ]
    },
    {
     "name": "stderr",
     "output_type": "stream",
     "text": [
      "\r",
      "Epoch 6/10:  48%|████▊     | 7131/15000 [00:07<00:07, 1031.02it/s]"
     ]
    },
    {
     "name": "stderr",
     "output_type": "stream",
     "text": [
      "\r",
      "Epoch 6/10:  54%|█████▍    | 8163/15000 [00:08<00:06, 1024.22it/s]"
     ]
    },
    {
     "name": "stderr",
     "output_type": "stream",
     "text": [
      "\r",
      "Epoch 6/10:  62%|██████▏   | 9232/15000 [00:09<00:05, 1038.06it/s]"
     ]
    },
    {
     "name": "stderr",
     "output_type": "stream",
     "text": [
      "\r",
      "Epoch 6/10:  69%|██████▉   | 10319/15000 [00:10<00:04, 1052.88it/s]"
     ]
    },
    {
     "name": "stderr",
     "output_type": "stream",
     "text": [
      "\r",
      "Epoch 6/10:  76%|███████▌  | 11373/15000 [00:11<00:03, 1041.56it/s]"
     ]
    },
    {
     "name": "stderr",
     "output_type": "stream",
     "text": [
      "\r",
      "Epoch 6/10:  83%|████████▎ | 12415/15000 [00:12<00:02, 1032.56it/s]"
     ]
    },
    {
     "name": "stderr",
     "output_type": "stream",
     "text": [
      "\r",
      "Epoch 6/10:  90%|████████▉ | 13448/15000 [00:13<00:01, 1023.56it/s]"
     ]
    },
    {
     "name": "stderr",
     "output_type": "stream",
     "text": [
      "\r",
      "Epoch 6/10:  97%|█████████▋| 14517/15000 [00:14<00:00, 1036.87it/s]"
     ]
    },
    {
     "name": "stderr",
     "output_type": "stream",
     "text": [
      "\r",
      "                                                                   "
     ]
    },
    {
     "name": "stderr",
     "output_type": "stream",
     "text": [
      "\r"
     ]
    },
    {
     "name": "stderr",
     "output_type": "stream",
     "text": [
      "\r",
      "Epoch 5, testing model.:   0%|          | 0/2500 [00:00<?, ?it/s]"
     ]
    },
    {
     "name": "stderr",
     "output_type": "stream",
     "text": [
      "\r",
      "Epoch 5, testing model.:  48%|████▊     | 1191/2500 [00:01<00:01, 1190.48it/s]"
     ]
    },
    {
     "name": "stderr",
     "output_type": "stream",
     "text": [
      "\r",
      "Epoch 5, testing model.: 100%|██████████| 2500/2500 [00:01<00:00, 1262.98it/s]"
     ]
    },
    {
     "name": "stderr",
     "output_type": "stream",
     "text": [
      "\n"
     ]
    },
    {
     "name": "stdout",
     "output_type": "stream",
     "text": [
      "\n",
      "Epoch 5 - accuracy: 94.74000000000001%\n"
     ]
    },
    {
     "name": "stderr",
     "output_type": "stream",
     "text": [
      "\r",
      "Epoch 7/10:   0%|          | 0/15000 [00:00<?, ?it/s]"
     ]
    },
    {
     "name": "stderr",
     "output_type": "stream",
     "text": [
      "\r",
      "Epoch 7/10:   7%|▋         | 994/15000 [00:01<00:14, 993.15it/s]"
     ]
    },
    {
     "name": "stderr",
     "output_type": "stream",
     "text": [
      "\r",
      "Epoch 7/10:  14%|█▎        | 2041/15000 [00:02<00:12, 1024.45it/s]"
     ]
    },
    {
     "name": "stderr",
     "output_type": "stream",
     "text": [
      "\r",
      "Epoch 7/10:  20%|██        | 3066/15000 [00:03<00:11, 1016.22it/s]"
     ]
    },
    {
     "name": "stderr",
     "output_type": "stream",
     "text": [
      "\r",
      "Epoch 7/10:  27%|██▋       | 4083/15000 [00:04<00:11, 986.44it/s] "
     ]
    },
    {
     "name": "stderr",
     "output_type": "stream",
     "text": [
      "\r",
      "Epoch 7/10:  34%|███▍      | 5081/15000 [00:05<00:10, 990.41it/s]"
     ]
    },
    {
     "name": "stderr",
     "output_type": "stream",
     "text": [
      "\r",
      "Epoch 7/10:  41%|████      | 6134/15000 [00:06<00:08, 1011.15it/s]"
     ]
    },
    {
     "name": "stderr",
     "output_type": "stream",
     "text": [
      "\r",
      "Epoch 7/10:  48%|████▊     | 7240/15000 [00:07<00:07, 1041.74it/s]"
     ]
    },
    {
     "name": "stderr",
     "output_type": "stream",
     "text": [
      "\r",
      "Epoch 7/10:  55%|█████▌    | 8283/15000 [00:08<00:06, 1014.79it/s]"
     ]
    },
    {
     "name": "stderr",
     "output_type": "stream",
     "text": [
      "\r",
      "Epoch 7/10:  62%|██████▏   | 9300/15000 [00:09<00:05, 1001.37it/s]"
     ]
    },
    {
     "name": "stderr",
     "output_type": "stream",
     "text": [
      "\r",
      "Epoch 7/10:  69%|██████▉   | 10336/15000 [00:10<00:04, 1011.54it/s]"
     ]
    },
    {
     "name": "stderr",
     "output_type": "stream",
     "text": [
      "\r",
      "Epoch 7/10:  76%|███████▌  | 11356/15000 [00:11<00:03, 1013.83it/s]"
     ]
    },
    {
     "name": "stderr",
     "output_type": "stream",
     "text": [
      "\r",
      "Epoch 7/10:  83%|████████▎ | 12482/15000 [00:12<00:02, 1047.51it/s]"
     ]
    },
    {
     "name": "stderr",
     "output_type": "stream",
     "text": [
      "\r",
      "Epoch 7/10:  91%|█████████ | 13599/15000 [00:13<00:01, 1068.23it/s]"
     ]
    },
    {
     "name": "stderr",
     "output_type": "stream",
     "text": [
      "\r",
      "Epoch 7/10:  98%|█████████▊| 14669/15000 [00:14<00:00, 1063.60it/s]"
     ]
    },
    {
     "name": "stderr",
     "output_type": "stream",
     "text": [
      "\r",
      "                                                                   "
     ]
    },
    {
     "name": "stderr",
     "output_type": "stream",
     "text": [
      "\r"
     ]
    },
    {
     "name": "stderr",
     "output_type": "stream",
     "text": [
      "\r",
      "Epoch 6, testing model.:   0%|          | 0/2500 [00:00<?, ?it/s]"
     ]
    },
    {
     "name": "stderr",
     "output_type": "stream",
     "text": [
      "\r",
      "Epoch 6, testing model.:  55%|█████▍    | 1369/2500 [00:01<00:00, 1368.25it/s]"
     ]
    },
    {
     "name": "stderr",
     "output_type": "stream",
     "text": [
      "\r",
      "Epoch 6, testing model.: 100%|██████████| 2500/2500 [00:01<00:00, 1433.61it/s]"
     ]
    },
    {
     "name": "stderr",
     "output_type": "stream",
     "text": [
      "\n"
     ]
    },
    {
     "name": "stdout",
     "output_type": "stream",
     "text": [
      "\n",
      "Epoch 6 - accuracy: 94.52000000000001%\n"
     ]
    },
    {
     "name": "stderr",
     "output_type": "stream",
     "text": [
      "\r",
      "Epoch 8/10:   0%|          | 0/15000 [00:00<?, ?it/s]"
     ]
    },
    {
     "name": "stderr",
     "output_type": "stream",
     "text": [
      "\r",
      "Epoch 8/10:   6%|▋         | 965/15000 [00:01<00:14, 964.66it/s]"
     ]
    },
    {
     "name": "stderr",
     "output_type": "stream",
     "text": [
      "\r",
      "Epoch 8/10:  13%|█▎        | 2005/15000 [00:02<00:12, 1008.76it/s]"
     ]
    },
    {
     "name": "stderr",
     "output_type": "stream",
     "text": [
      "\r",
      "Epoch 8/10:  21%|██        | 3091/15000 [00:03<00:11, 1043.77it/s]"
     ]
    },
    {
     "name": "stderr",
     "output_type": "stream",
     "text": [
      "\r",
      "Epoch 8/10:  28%|██▊       | 4135/15000 [00:04<00:10, 1025.57it/s]"
     ]
    },
    {
     "name": "stderr",
     "output_type": "stream",
     "text": [
      "\r",
      "Epoch 8/10:  35%|███▍      | 5195/15000 [00:05<00:09, 1037.53it/s]"
     ]
    },
    {
     "name": "stderr",
     "output_type": "stream",
     "text": [
      "\r",
      "Epoch 8/10:  42%|████▏     | 6233/15000 [00:06<00:08, 1025.46it/s]"
     ]
    },
    {
     "name": "stderr",
     "output_type": "stream",
     "text": [
      "\r",
      "Epoch 8/10:  48%|████▊     | 7259/15000 [00:07<00:07, 1014.09it/s]"
     ]
    },
    {
     "name": "stderr",
     "output_type": "stream",
     "text": [
      "\r",
      "Epoch 8/10:  55%|█████▌    | 8281/15000 [00:08<00:06, 1016.30it/s]"
     ]
    },
    {
     "name": "stderr",
     "output_type": "stream",
     "text": [
      "\r",
      "Epoch 8/10:  62%|██████▏   | 9298/15000 [00:09<00:05, 1000.38it/s]"
     ]
    },
    {
     "name": "stderr",
     "output_type": "stream",
     "text": [
      "\r",
      "Epoch 8/10:  69%|██████▊   | 10312/15000 [00:10<00:04, 1004.12it/s]"
     ]
    },
    {
     "name": "stderr",
     "output_type": "stream",
     "text": [
      "\r",
      "Epoch 8/10:  76%|███████▌  | 11327/15000 [00:11<00:03, 1007.20it/s]"
     ]
    },
    {
     "name": "stderr",
     "output_type": "stream",
     "text": [
      "\r",
      "Epoch 8/10:  83%|████████▎ | 12381/15000 [00:12<00:02, 1021.16it/s]"
     ]
    },
    {
     "name": "stderr",
     "output_type": "stream",
     "text": [
      "\r",
      "Epoch 8/10:  89%|████████▉ | 13403/15000 [00:13<00:01, 1014.52it/s]"
     ]
    },
    {
     "name": "stderr",
     "output_type": "stream",
     "text": [
      "\r",
      "Epoch 8/10:  96%|█████████▌| 14418/15000 [00:14<00:00, 1006.47it/s]"
     ]
    },
    {
     "name": "stderr",
     "output_type": "stream",
     "text": [
      "\r",
      "                                                                   "
     ]
    },
    {
     "name": "stderr",
     "output_type": "stream",
     "text": [
      "\r"
     ]
    },
    {
     "name": "stderr",
     "output_type": "stream",
     "text": [
      "\r",
      "Epoch 7, testing model.:   0%|          | 0/2500 [00:00<?, ?it/s]"
     ]
    },
    {
     "name": "stderr",
     "output_type": "stream",
     "text": [
      "\r",
      "Epoch 7, testing model.:  54%|█████▎    | 1343/2500 [00:01<00:00, 1342.99it/s]"
     ]
    },
    {
     "name": "stderr",
     "output_type": "stream",
     "text": [
      "\r",
      "Epoch 7, testing model.: 100%|██████████| 2500/2500 [00:01<00:00, 1332.46it/s]"
     ]
    },
    {
     "name": "stderr",
     "output_type": "stream",
     "text": [
      "\n"
     ]
    },
    {
     "name": "stdout",
     "output_type": "stream",
     "text": [
      "\n",
      "Epoch 7 - accuracy: 94.97%\n"
     ]
    },
    {
     "name": "stderr",
     "output_type": "stream",
     "text": [
      "\r",
      "Epoch 9/10:   0%|          | 0/15000 [00:00<?, ?it/s]"
     ]
    },
    {
     "name": "stderr",
     "output_type": "stream",
     "text": [
      "\r",
      "Epoch 9/10:   7%|▋         | 980/15000 [00:01<00:14, 979.93it/s]"
     ]
    },
    {
     "name": "stderr",
     "output_type": "stream",
     "text": [
      "\r",
      "Epoch 9/10:  14%|█▎        | 2043/15000 [00:02<00:12, 1028.59it/s]"
     ]
    },
    {
     "name": "stderr",
     "output_type": "stream",
     "text": [
      "\r",
      "Epoch 9/10:  20%|██        | 3072/15000 [00:03<00:11, 1023.16it/s]"
     ]
    },
    {
     "name": "stderr",
     "output_type": "stream",
     "text": [
      "\r",
      "Epoch 9/10:  27%|██▋       | 4096/15000 [00:04<00:10, 1017.54it/s]"
     ]
    },
    {
     "name": "stderr",
     "output_type": "stream",
     "text": [
      "\r",
      "Epoch 9/10:  34%|███▍      | 5165/15000 [00:05<00:09, 1035.70it/s]"
     ]
    },
    {
     "name": "stderr",
     "output_type": "stream",
     "text": [
      "\r",
      "Epoch 9/10:  41%|████▏     | 6214/15000 [00:06<00:08, 1040.00it/s]"
     ]
    },
    {
     "name": "stderr",
     "output_type": "stream",
     "text": [
      "\r",
      "Epoch 9/10:  48%|████▊     | 7255/15000 [00:07<00:07, 1027.72it/s]"
     ]
    },
    {
     "name": "stderr",
     "output_type": "stream",
     "text": [
      "\r",
      "Epoch 9/10:  55%|█████▌    | 8286/15000 [00:08<00:06, 1028.51it/s]"
     ]
    },
    {
     "name": "stderr",
     "output_type": "stream",
     "text": [
      "\r",
      "Epoch 9/10:  62%|██████▏   | 9315/15000 [00:09<00:05, 994.38it/s] "
     ]
    },
    {
     "name": "stderr",
     "output_type": "stream",
     "text": [
      "\r",
      "Epoch 9/10:  69%|██████▉   | 10326/15000 [00:10<00:04, 999.24it/s]"
     ]
    },
    {
     "name": "stderr",
     "output_type": "stream",
     "text": [
      "\r",
      "Epoch 9/10:  76%|███████▌  | 11327/15000 [00:11<00:03, 992.21it/s]"
     ]
    },
    {
     "name": "stderr",
     "output_type": "stream",
     "text": [
      "\r",
      "Epoch 9/10:  82%|████████▏ | 12340/15000 [00:12<00:02, 998.31it/s]"
     ]
    },
    {
     "name": "stderr",
     "output_type": "stream",
     "text": [
      "\r",
      "Epoch 9/10:  89%|████████▉ | 13340/15000 [00:13<00:01, 983.37it/s]"
     ]
    },
    {
     "name": "stderr",
     "output_type": "stream",
     "text": [
      "\r",
      "Epoch 9/10:  96%|█████████▌| 14325/15000 [00:14<00:00, 977.60it/s]"
     ]
    },
    {
     "name": "stderr",
     "output_type": "stream",
     "text": [
      "\r",
      "                                                                  "
     ]
    },
    {
     "name": "stderr",
     "output_type": "stream",
     "text": [
      "\r"
     ]
    },
    {
     "name": "stderr",
     "output_type": "stream",
     "text": [
      "\r",
      "Epoch 8, testing model.:   0%|          | 0/2500 [00:00<?, ?it/s]"
     ]
    },
    {
     "name": "stderr",
     "output_type": "stream",
     "text": [
      "\r",
      "Epoch 8, testing model.:  50%|█████     | 1258/2500 [00:01<00:00, 1257.94it/s]"
     ]
    },
    {
     "name": "stderr",
     "output_type": "stream",
     "text": [
      "\r",
      "Epoch 8, testing model.: 100%|██████████| 2500/2500 [00:01<00:00, 1356.50it/s]"
     ]
    },
    {
     "name": "stderr",
     "output_type": "stream",
     "text": [
      "\n"
     ]
    },
    {
     "name": "stdout",
     "output_type": "stream",
     "text": [
      "\n",
      "Epoch 8 - accuracy: 95.13000000000001%\n"
     ]
    },
    {
     "name": "stderr",
     "output_type": "stream",
     "text": [
      "\r",
      "Epoch 10/10:   0%|          | 0/15000 [00:00<?, ?it/s]"
     ]
    },
    {
     "name": "stderr",
     "output_type": "stream",
     "text": [
      "\r",
      "Epoch 10/10:   7%|▋         | 995/15000 [00:01<00:14, 994.71it/s]"
     ]
    },
    {
     "name": "stderr",
     "output_type": "stream",
     "text": [
      "\r",
      "Epoch 10/10:  13%|█▎        | 2002/15000 [00:02<00:12, 1001.76it/s]"
     ]
    },
    {
     "name": "stderr",
     "output_type": "stream",
     "text": [
      "\r",
      "Epoch 10/10:  20%|██        | 3004/15000 [00:03<00:12, 995.96it/s] "
     ]
    },
    {
     "name": "stderr",
     "output_type": "stream",
     "text": [
      "\r",
      "Epoch 10/10:  27%|██▋       | 4042/15000 [00:04<00:10, 1012.35it/s]"
     ]
    },
    {
     "name": "stderr",
     "output_type": "stream",
     "text": [
      "\r",
      "Epoch 10/10:  34%|███▍      | 5102/15000 [00:05<00:09, 1029.47it/s]"
     ]
    },
    {
     "name": "stderr",
     "output_type": "stream",
     "text": [
      "\r",
      "Epoch 10/10:  41%|████      | 6172/15000 [00:06<00:08, 1042.93it/s]"
     ]
    },
    {
     "name": "stderr",
     "output_type": "stream",
     "text": [
      "\r",
      "Epoch 10/10:  48%|████▊     | 7216/15000 [00:07<00:07, 1037.05it/s]"
     ]
    },
    {
     "name": "stderr",
     "output_type": "stream",
     "text": [
      "\r",
      "Epoch 10/10:  55%|█████▌    | 8275/15000 [00:08<00:06, 1043.90it/s]"
     ]
    },
    {
     "name": "stderr",
     "output_type": "stream",
     "text": [
      "\r",
      "Epoch 10/10:  62%|██████▏   | 9320/15000 [00:09<00:05, 1017.06it/s]"
     ]
    },
    {
     "name": "stderr",
     "output_type": "stream",
     "text": [
      "\r",
      "Epoch 10/10:  69%|██████▉   | 10367/15000 [00:10<00:04, 1025.98it/s]"
     ]
    },
    {
     "name": "stderr",
     "output_type": "stream",
     "text": [
      "\r",
      "Epoch 10/10:  77%|███████▋  | 11484/15000 [00:11<00:03, 1053.37it/s]"
     ]
    },
    {
     "name": "stderr",
     "output_type": "stream",
     "text": [
      "\r",
      "Epoch 10/10:  84%|████████▎ | 12539/15000 [00:12<00:02, 1053.24it/s]"
     ]
    },
    {
     "name": "stderr",
     "output_type": "stream",
     "text": [
      "\r",
      "Epoch 10/10:  91%|█████████ | 13594/15000 [00:13<00:01, 1052.14it/s]"
     ]
    },
    {
     "name": "stderr",
     "output_type": "stream",
     "text": [
      "\r",
      "Epoch 10/10:  98%|█████████▊| 14664/15000 [00:14<00:00, 1057.37it/s]"
     ]
    },
    {
     "name": "stderr",
     "output_type": "stream",
     "text": [
      "\r",
      "                                                                    "
     ]
    },
    {
     "name": "stderr",
     "output_type": "stream",
     "text": [
      "\r"
     ]
    },
    {
     "name": "stderr",
     "output_type": "stream",
     "text": [
      "\r",
      "Epoch 9, testing model.:   0%|          | 0/2500 [00:00<?, ?it/s]"
     ]
    },
    {
     "name": "stderr",
     "output_type": "stream",
     "text": [
      "\r",
      "Epoch 9, testing model.:  49%|████▉     | 1229/2500 [00:01<00:01, 1228.08it/s]"
     ]
    },
    {
     "name": "stderr",
     "output_type": "stream",
     "text": [
      "\r",
      "Epoch 9, testing model.: 100%|██████████| 2500/2500 [00:01<00:00, 1271.86it/s]"
     ]
    },
    {
     "name": "stdout",
     "output_type": "stream",
     "text": [
      "\n",
      "Epoch 9 - accuracy: 95.24000000000001%\n"
     ]
    },
    {
     "name": "stderr",
     "output_type": "stream",
     "text": [
      "\n"
     ]
    }
   ],
   "source": [
    "model = model_sinabs\n",
    "\n",
    "epochs = 10\n",
    "lr = 1e-3\n",
    "\n",
    "# init the model weights\n",
    "for layer in model.modules():\n",
    "    if isinstance(layer, (nn.Conv2d, nn.Linear)):\n",
    "        nn.init.xavier_normal_(layer.weight.data)\n",
    "\n",
    "optimizer = SGD(params=model.parameters(), lr=lr)\n",
    "scriterion = CrossEntropyLoss()\n",
    "model.to(device)\n",
    "\n",
    "for e in range(epochs):\n",
    "\n",
    "    # train\n",
    "    train_p_bar = tqdm(train_dataloader, desc=f'Epoch {e+1}/{epochs}', leave=False, mininterval=1)\n",
    "    for data, label in train_p_bar:\n",
    "        # remove the time-step axis since we are training model\n",
    "        # move the data to accelerator\n",
    "        data = data.squeeze(dim=1).to(dtype=torch.float, device=device)\n",
    "        label = label.to(dtype=torch.long, device=device)\n",
    "        # forward\n",
    "        optimizer.zero_grad()\n",
    "        output = model(data)\n",
    "        loss = criterion(output, label)\n",
    "        # backward\n",
    "        loss.backward()\n",
    "        optimizer.step()\n",
    "        # set progressing bar\n",
    "        #train_p_bar.set_postfix(loss=round(loss.item(), 4), mininterval=1)\n",
    "\n",
    "    # validate\n",
    "    correct_predictions = []\n",
    "    with torch.no_grad():\n",
    "        test_p_bar = tqdm(test_dataloader, desc=f'Epoch {e}, testing model.', mininterval=1)\n",
    "        for data, label in test_p_bar:\n",
    "            # remove the time-step axis since we are training model\n",
    "            # move the data to accelerator\n",
    "            data = data.squeeze(dim=1).to(dtype=torch.float, device=device)\n",
    "            label = label.to(dtype=torch.long, device=device)\n",
    "            # forward\n",
    "            output = model(data)\n",
    "            # calculate accuracy\n",
    "            pred = output.argmax(dim=1, keepdim=True)\n",
    "            # compute the total correct predictions\n",
    "            correct_predictions.append(pred.eq(label.view_as(pred)))\n",
    "    \n",
    "        correct_predictions = torch.cat(correct_predictions)\n",
    "        print(f\"\\nEpoch {e} - accuracy: {correct_predictions.sum().item()/(len(correct_predictions))*100}%\")\n",
    "        "
   ]
  },
  {
   "cell_type": "code",
   "execution_count": 8,
   "id": "456ea942-e016-421d-bd93-b08d76385aee",
   "metadata": {
    "collapsed": false
   },
   "outputs": [
    {
     "data": {
      "text/plain": [
       "Sequential(\n",
       "  (0): Conv2d(2, 8, kernel_size=(3, 3), stride=(1, 1), padding=(1, 1), bias=False)\n",
       "  (1): IAFSqueeze(spike_threshold=Parameter containing:\n",
       "  tensor(1., device='cuda:0'), min_v_mem=Parameter containing:\n",
       "  tensor(-1., device='cuda:0'), batch_size=1, num_timesteps=-1)\n",
       "  (2): AvgPool2d(kernel_size=2, stride=2, padding=0)\n",
       "  (3): Conv2d(8, 16, kernel_size=(3, 3), stride=(1, 1), padding=(1, 1), bias=False)\n",
       "  (4): IAFSqueeze(spike_threshold=Parameter containing:\n",
       "  tensor(1., device='cuda:0'), min_v_mem=Parameter containing:\n",
       "  tensor(-1., device='cuda:0'), batch_size=1, num_timesteps=-1)\n",
       "  (5): AvgPool2d(kernel_size=2, stride=2, padding=0)\n",
       "  (6): Conv2d(16, 16, kernel_size=(3, 3), stride=(2, 2), padding=(1, 1), bias=False)\n",
       "  (7): IAFSqueeze(spike_threshold=Parameter containing:\n",
       "  tensor(1., device='cuda:0'), min_v_mem=Parameter containing:\n",
       "  tensor(-1., device='cuda:0'), batch_size=1, num_timesteps=-1)\n",
       "  (8): Flatten(start_dim=1, end_dim=-1)\n",
       "  (9): Linear(in_features=256, out_features=10, bias=False)\n",
       "  (10): IAFSqueeze(spike_threshold=Parameter containing:\n",
       "  tensor(1., device='cuda:0'), min_v_mem=Parameter containing:\n",
       "  tensor(-1., device='cuda:0'), batch_size=1, num_timesteps=-1)\n",
       ")"
      ]
     },
     "execution_count": 8,
     "metadata": {},
     "output_type": "execute_result"
    }
   ],
   "source": [
    "from sinabs.from_torch import from_model\n",
    "import sinabs.activation.spike_generation as spikegen\n",
    "\n",
    "snn = from_model(model=model, input_shape=(2, 34, 34), batch_size=1, spike_fn=spikegen.SingleSpike).spiking_model\n",
    "snn"
   ]
  },
  {
   "cell_type": "code",
   "execution_count": 48,
   "id": "4a79d2ef-56d2-4289-879d-ca8569666a2b",
   "metadata": {
    "collapsed": false
   },
   "outputs": [
    {
     "name": "stderr",
     "output_type": "stream",
     "text": [
      "\r",
      "Epoch 9, testing model.:   0%|          | 0/2500 [00:00<?, ?it/s]"
     ]
    },
    {
     "name": "stderr",
     "output_type": "stream",
     "text": [
      "\r",
      "Epoch 9, testing model.:   0%|          | 0/2500 [00:00<?, ?it/s]"
     ]
    },
    {
     "name": "stdout",
     "output_type": "stream",
     "text": [
      "torch.Size([4, 100, 10])\n"
     ]
    },
    {
     "name": "stderr",
     "output_type": "stream",
     "text": [
      "\n"
     ]
    },
    {
     "ename": "NameError",
     "evalue": "name 'lol' is not defined",
     "output_type": "error",
     "traceback": [
      "\u001b[0;31m---------------------------------------------------------------------------\u001b[0m",
      "\u001b[0;31mNameError\u001b[0m                                 Traceback (most recent call last)",
      "Cell \u001b[0;32mIn[48], line 21\u001b[0m\n\u001b[1;32m     19\u001b[0m \u001b[38;5;66;03m# accumulate all time-steps output for final prediction\u001b[39;00m\n\u001b[1;32m     20\u001b[0m \u001b[38;5;28mprint\u001b[39m(output\u001b[38;5;241m.\u001b[39mshape)\n\u001b[0;32m---> 21\u001b[0m \u001b[43mlol\u001b[49m()\n\u001b[1;32m     22\u001b[0m output \u001b[38;5;241m=\u001b[39m output\u001b[38;5;241m.\u001b[39msum(dim\u001b[38;5;241m=\u001b[39m\u001b[38;5;241m1\u001b[39m)\n\u001b[1;32m     23\u001b[0m \u001b[38;5;66;03m# calculate accuracy\u001b[39;00m\n",
      "\u001b[0;31mNameError\u001b[0m: name 'lol' is not defined"
     ]
    }
   ],
   "source": [
    "n_time_steps = 100\n",
    "to_raster = ToFrame(sensor_size=NMNIST.sensor_size, n_time_bins=n_time_steps)\n",
    "snn_test_dataset = NMNIST(save_to=root_dir, train=False, transform=to_raster)\n",
    "snn_test_dataloader = DataLoader(snn_test_dataset, batch_size=batch_size, num_workers=num_workers, drop_last=True, shuffle=False)\n",
    "\n",
    "snn = snn.to(device)\n",
    "\n",
    "correct_predictions = []\n",
    "with torch.no_grad():\n",
    "    test_p_bar = tqdm(snn_test_dataloader,  desc=f'Epoch {e}, testing model.', mininterval=1)\n",
    "    for data, label in test_p_bar:\n",
    "        # reshape the input from [Batch, Time, Channel, Height, Width] into [Batch*Time, Channel, Height, Width]\n",
    "        data = data.reshape(-1, 2, 34, 34).to(dtype=torch.float, device=device)\n",
    "        label = label.to(dtype=torch.long, device=device)\n",
    "        # forward\n",
    "        output = snn(data)\n",
    "        # reshape the output from [Batch*Time,num_classes] into [Batch, Time, num_classes]\n",
    "        output = output.reshape(batch_size, n_time_steps, -1)\n",
    "        # accumulate all time-steps output for final prediction\n",
    "        output = output.sum(dim=1)\n",
    "        # calculate accuracy\n",
    "        pred = output.argmax(dim=1, keepdim=True)\n",
    "        # compute the total correct predictions\n",
    "        correct_predictions.append(pred.eq(label.view_as(pred)))\n",
    "        # set progressing bar\n",
    "        test_p_bar.update()\n",
    "        #test_p_bar.set_description(f\"Testing SNN Model...\")\n",
    "\n",
    "    correct_predictions = torch.cat(correct_predictions)\n",
    "    print(f\"\\nAccuracy of converted SNN: {correct_predictions.sum().item()/(len(correct_predictions))*100}%\")\n"
   ]
  },
  {
   "cell_type": "code",
   "execution_count": 49,
   "id": "f0930b53-ea40-402d-9f7f-c6cab3b680bb",
   "metadata": {
    "collapsed": false
   },
   "outputs": [
    {
     "data": {
      "text/plain": [
       "torch.Size([10])"
      ]
     },
     "execution_count": 49,
     "metadata": {},
     "output_type": "execute_result"
    }
   ],
   "source": [
    "torch.ones((100, 10)).sum(axis=0).shape"
   ]
  },
  {
   "cell_type": "raw",
   "id": "58447efb-57fd-47b2-889d-762f201951db",
   "metadata": {
    "collapsed": false
   },
   "source": [
    "def dataloader_to_numpy(dataloader):\n",
    "    count = 0\n",
    "    for batch in dataloader:\n",
    "        for i in range(batch[0].shape[0]):\n",
    "            x = batch[0][i]\n",
    "            y = batch[1][i]\n",
    "            saved_x = x.cpu().detach().numpy()\n",
    "            np.save(f'/home/mrontio/data/nmnist-converted/{y}/{count}.npy', saved_x)\n",
    "            count += 1\n",
    "\n",
    "dataloader_to_numpy(snn_test_dataloader)"
   ]
  },
  {
   "cell_type": "code",
   "execution_count": 15,
   "id": "0cddcf44-e57e-419f-bdaa-1fc5b5512d74",
   "metadata": {
    "collapsed": false
   },
   "outputs": [
    {
     "data": {
      "text/plain": [
       "10000"
      ]
     },
     "execution_count": 15,
     "metadata": {},
     "output_type": "execute_result"
    }
   ],
   "source": []
  },
  {
   "cell_type": "code",
   "execution_count": null,
   "id": "a7a619e2-24ca-4731-8919-b9fbefcfa2e5",
   "metadata": {
    "collapsed": false
   },
   "outputs": [],
   "source": [
    "sample_data, label = snn_test_dataset[0]\n",
    "print(sample_data.shape)\n",
    "sample_data = torch.tensor(sample_data).reshape(-1, 2, 34, 34).to(dtype=torch.float, device=device)\n",
    "logits = snn(sample_data).reshape(1, 100, -1)\n",
    "output = logits.sum(dim=1)\n",
    "pred = output.argmax(dim=1, keepdim=True)\n",
    "print(pred)"
   ]
  },
  {
   "cell_type": "code",
   "execution_count": null,
   "id": "818fa33c-7cbb-4d2b-b2de-d8ebe1428fec",
   "metadata": {
    "collapsed": false
   },
   "outputs": [],
   "source": []
  },
  {
   "cell_type": "code",
   "execution_count": 108,
   "id": "44e1b1c9-e372-46e2-b2a9-890c08072ece",
   "metadata": {
    "collapsed": false
   },
   "outputs": [],
   "source": [
    "_ = snn.to('cpu')\n",
    "zeros = torch.zeros(sample_data.shape)\n",
    "ones = torch.ones(sample_data.shape)"
   ]
  },
  {
   "cell_type": "code",
   "execution_count": 109,
   "id": "016078e2-2f23-4ce7-b971-c78a220a97e6",
   "metadata": {
    "collapsed": false
   },
   "outputs": [
    {
     "name": "stdout",
     "output_type": "stream",
     "text": [
      "spike_threshold: 1.0\n",
      "min_v_mem: -1.0\n"
     ]
    }
   ],
   "source": [
    "modules = list(snn.modules())[1:]\n",
    "print(f'spike_threshold: {float(modules[1].spike_threshold)}\\nmin_v_mem: {float(modules[1].min_v_mem)}')"
   ]
  },
  {
   "cell_type": "code",
   "execution_count": 110,
   "id": "86ab4e7e-674c-4809-af0c-8101e836b9cd",
   "metadata": {
    "collapsed": false
   },
   "outputs": [
    {
     "name": "stdout",
     "output_type": "stream",
     "text": [
      "tensor(-1.0747, grad_fn=<MinBackward1>) tensor(4.3806, grad_fn=<MaxBackward1>)\n"
     ]
    }
   ],
   "source": [
    "conv = modules[0]\n",
    "conv_out = conv(ones)\n",
    "iaf = modules[1]\n",
    "iaf_out = iaf(conv_out)\n",
    "\n",
    "print(torch.min(conv_out), torch.max(conv_out))"
   ]
  },
  {
   "cell_type": "code",
   "execution_count": 111,
   "id": "0897f249-32d9-42bd-ae69-c4c8744d39d2",
   "metadata": {
    "collapsed": false
   },
   "outputs": [
    {
     "data": {
      "text/plain": [
       "torch.Size([100, 8, 34, 34])"
      ]
     },
     "execution_count": 111,
     "metadata": {},
     "output_type": "execute_result"
    }
   ],
   "source": [
    "W = list(conv.parameters())[0]\n",
    "W.shape\n",
    "conv_out.shape"
   ]
  },
  {
   "cell_type": "code",
   "execution_count": 112,
   "id": "c99dc87b-edb8-461f-a8f3-39650356d4ee",
   "metadata": {
    "collapsed": false
   },
   "outputs": [],
   "source": [
    "def plot_tensor(tensor, ax, printcb=False):\n",
    "    if tensor.dim() != 2:\n",
    "        raise ValueError(\"Input tensor must be a 2D tensor.\")\n",
    "    \n",
    "    tensor_np = tensor.numpy()  # Convert to numpy array\n",
    "    ax.imshow(tensor_np, cmap='coolwarm', aspect='equal')\n",
    "\n",
    "    cax = ax.imshow(tensor_np, cmap='coolwarm', aspect='equal')\n",
    "    if printcb:\n",
    "        fig.colorbar(cax, ax=ax)  # Show color scale\n",
    "    ax.axis('off')\n"
   ]
  },
  {
   "cell_type": "code",
   "execution_count": 113,
   "id": "71660d91-3d7b-4553-9a14-7b4d2eb4bad9",
   "metadata": {
    "collapsed": false
   },
   "outputs": [],
   "source": [
    "def get_class_name(class_string):\n",
    "    # Strip the angle brackets and split the string by dots\n",
    "    split_string = class_string.strip(\"<>\").split(\".\")\n",
    "    # Get the last element from the split string\n",
    "    class_name = split_string[-1]\n",
    "    # Remove the ending single quote if it exists\n",
    "    return class_name.strip(\"'\")"
   ]
  },
  {
   "cell_type": "code",
   "execution_count": 114,
   "id": "ab1508ea-50bb-4c23-ba2a-6c32643553a2",
   "metadata": {
    "collapsed": false
   },
   "outputs": [
    {
     "name": "stdout",
     "output_type": "stream",
     "text": [
      "torch.Size([1, 5, 30, 100])\n"
     ]
    },
    {
     "data": {
      "image/png": "[encoded data removed]",
      "text/plain": [
       "<Figure size 500x700 with 10 Axes>"
      ]
     },
     "metadata": {},
     "output_type": "display_data"
    }
   ],
   "source": [
    "from sinabs.layers import IAF,LIF\n",
    "\n",
    "import numpy as np\n",
    "\n",
    "#tensor = torch.rand((1, 2, 34, 34))\n",
    "#tensor[0,1] = tensor[0,0]\n",
    "begin = 0\n",
    "end = 3\n",
    "tensor = torch.linspace(begin, end, steps=100).repeat(30, 1)\n",
    "iaf = IAF(spike_fn = spikegen.SingleSpike, record_states=True)\n",
    "\n",
    "t = 5\n",
    "\n",
    "image = tensor.unsqueeze(0)\n",
    "image = torch.stack([image] * t, dim=1)\n",
    "\n",
    "title = f'Linspace [{begin},{end}], {get_class_name(str(iaf.spike_fn))}'\n",
    "\n",
    "# image[0, 1:3] = torch.zeros((30, 100))\n",
    "# image[0, 3] = torch.zeros((30, 100))\n",
    "# title += ', with interruptions'\n",
    "#image = sample_data[10].unsqueeze(0).cpu()\n",
    "print(image.shape)\n",
    "fig, ax = plt.subplots(image.shape[1], 2, figsize=(5,7))\n",
    "for i in range(image.shape[1]):\n",
    "    with torch.no_grad():\n",
    "        plot_tensor(image[0,i], ax[i,0])\n",
    "        plot_tensor(iaf(image)[0,i], ax[i, 1])\n",
    "\n",
    "\n",
    "plt.tight_layout()\n",
    "fig.suptitle(title)\n",
    "plt.show()\n"
   ]
  },
  {
   "cell_type": "code",
   "execution_count": 115,
   "id": "72128438-19ef-40fc-86e5-d46ea79d3ca0",
   "metadata": {
    "collapsed": false
   },
   "outputs": [
    {
     "name": "stdout",
     "output_type": "stream",
     "text": [
      "torch.Size([1, 5, 30, 100])\n",
      "tensor(0.9091)\n",
      "0.9091 -> 0.0909\n",
      "0.9091 -> 0.0000\n",
      "0.9091 -> 0.9091\n",
      "0.9091 -> 0.8182\n",
      "0.9091 -> 0.7273\n"
     ]
    }
   ],
   "source": [
    "recordings = iaf.recordings['v_mem']\n",
    "x = 30\n",
    "y = 0\n",
    "print(recordings.shape)\n",
    "print(image[0, 0, y, x])\n",
    "for i in range(recordings.shape[1]):\n",
    "    print(f'{float(image[0,i,y,x]):.4f} -> {float(recordings[0,i,y,x]):.4f}')\n"
   ]
  },
  {
   "cell_type": "code",
   "execution_count": 18,
   "id": "32df026e-0bca-41f4-9b81-410c55fde028",
   "metadata": {
    "collapsed": false
   },
   "outputs": [],
   "source": [
    "def conv_layer(x: 'np.ndarray[np.float32]', W):\n",
    "    C_in = W.shape[1]\n",
    "    C_out = W.shape[0]\n",
    "    kernel_size = tuple((W.shape[2:4]))\n",
    "    stride = 1\n",
    "    padding = (1,1)\n",
    "    # Zero pad\n",
    "    data_padded = torch.zeros(x.shape[0],\n",
    "                              x.shape[1] + 2*padding[0],\n",
    "                              x.shape[2] + 2*padding[0])\n",
    "    data_padded[:, padding[0]:x.shape[1] + padding[0], padding[1]:x.shape[2] + padding[1]] = x.cpu()\n",
    "    output = torch.zeros(C_out, x.shape[1], x.shape[2])\n",
    "    \n",
    "    coordinate_pairs = [(a, b) for a in range(0, x.shape[1], stride) for b in range(0, x.shape[2], stride)]\n",
    "    for l in range(C_out):\n",
    "        for k in range(C_in):\n",
    "            kernel = W[l,k]\n",
    "            for i, j in coordinate_pairs:\n",
    "                i_pad = i + padding[0]\n",
    "                j_pad = j + padding[1]\n",
    "                for m_ in range(kernel_size[0]):\n",
    "                    m = m_ - 1\n",
    "                    for n_ in range(kernel_size[1]):\n",
    "                        n = n_ -1\n",
    "                        output[l, i, j] += (kernel[m_, n_]\n",
    "                                            * data_padded[k, i_pad + m, j_pad + n])\n",
    "\n",
    "    return output\n",
    "\n",
    "\n",
    "x = torch.ones([2, 34, 34])\n",
    "# sample_data.to('cpu')\n",
    "# x = sample_data[0].to('cpu')\n",
    "conv_theirs = conv(x)\n",
    "conv_mine = conv_layer(x, W)\n",
    "\n"
   ]
  },
  {
   "cell_type": "code",
   "execution_count": 19,
   "id": "d6902c5a-449e-482f-9e1a-39f78d4bf83b",
   "metadata": {
    "collapsed": false
   },
   "outputs": [
    {
     "name": "stdout",
     "output_type": "stream",
     "text": [
      "True: 9248, False: 0\n",
      "tensor(0.6782, grad_fn=<SelectBackward0>)\n",
      "tensor(0.6782, grad_fn=<SelectBackward0>)\n"
     ]
    }
   ],
   "source": [
    "precision = 5\n",
    "mine_round = torch.round(conv_mine * 10**precision) / 10**precision\n",
    "theirs_round = torch.round(conv_theirs * 10**precision) / 10**precision\n",
    "num_true = torch.sum(mine_round == theirs_round).item()\n",
    "num_false = (mine_round==theirs_round).numel() - num_true\n",
    "print(f'True: {num_true}, False: {num_false}')\n",
    "false_indexes = torch.nonzero((conv_mine == conv_theirs) == False, as_tuple=False)\n",
    "print(conv_theirs[0,0,0])\n",
    "print(conv_mine[0,0,0])\n"
   ]
  },
  {
   "cell_type": "code",
   "execution_count": 20,
   "id": "b54109d7-ab59-4bd7-a323-77a4fb4573af",
   "metadata": {
    "collapsed": false
   },
   "outputs": [],
   "source": [
    "weights_np = W.detach().numpy() \n",
    "theirs_np = conv_theirs.detach().numpy()\n",
    "mine_np = conv_mine.detach().numpy()\n",
    "\n",
    "np.save('./weights/conv-weights.npy', weights_np)\n",
    "np.save('./tensors/conv-theirs.npy', theirs_np)\n",
    "np.save('./tensors/conv-mine.npy', mine_np)"
   ]
  },
  {
   "cell_type": "code",
   "execution_count": 21,
   "id": "c1f1c0c8-e136-42dd-8cdc-fe236c2a4f5c",
   "metadata": {
    "collapsed": false
   },
   "outputs": [
    {
     "data": {
      "text/plain": [
       "torch.Size([1, 1, 8, 34, 34])"
      ]
     },
     "execution_count": 21,
     "metadata": {},
     "output_type": "execute_result"
    }
   ],
   "source": [
    "conv_mine.reshape(1, 1, 8, 34, 34).shape\n"
   ]
  },
  {
   "cell_type": "code",
   "execution_count": 22,
   "id": "bd00d71a-e630-47f4-a54c-3a2ea9837c86",
   "metadata": {
    "collapsed": false
   },
   "outputs": [],
   "source": [
    "class if_layer:\n",
    "    def __init__(self, input_shape):\n",
    "        self.membrane = torch.zeros(input_shape)\n",
    "        self.coordinate_pairs = [(a, b) for a in range(input_shape[1]) for b in range(input_shape[2])]\n",
    "        self.v_th = 1.0\n",
    "        \n",
    "    def reset(self):\n",
    "        self.membrane = torch.zeros(input_shape)\n",
    "    def __call__(self, x: 'np.ndarray[np.float32]'):\n",
    "        '''Basic implementation of IF layer.\n",
    "        Assumptions:\n",
    "        spike_threshold = 1.0,\n",
    "        spike_fn = SingleSpike\n",
    "        No batch, No timing: the FPGA simply runs everything on FIFO basis\n",
    "        Thererofe, this has to be a class.\n",
    "        x dimensions: [c, y, x]\n",
    "        '''\n",
    "        output = torch.zeros(self.membrane.shape)\n",
    "        for c in range(x.shape[0]):\n",
    "            for (i, j) in self.coordinate_pairs:\n",
    "                self.membrane[c, i, j] +=  x[c, i, j]\n",
    "\n",
    "                if self.membrane[c, i, j] > self.v_th:\n",
    "                    output[c,i,j] = 1;\n",
    "                    self.membrane[c, i, j] -= 1\n",
    "\n",
    "        return output\n"
   ]
  },
  {
   "cell_type": "code",
   "execution_count": 23,
   "id": "815b3471-3e5e-442a-8f69-914d6bfe41f8",
   "metadata": {
    "collapsed": false
   },
   "outputs": [
    {
     "name": "stdout",
     "output_type": "stream",
     "text": [
      "1057 -> 5512 -> 1419 -> 6566 -> 2509 -> 4521 -> 2411 -> 6631 -> 2410 -> 4489 -> \n",
      "1057 -> 5512 -> 1419 -> 6566 -> 2509 -> 4521 -> 2411 -> 6631 -> 2410 -> 4489 -> \n"
     ]
    }
   ],
   "source": [
    "my_if = if_layer(conv_mine.shape)\n",
    "iaf = IAF(spike_fn = spikegen.SingleSpike)\n",
    "\n",
    "ifs_mine = [my_if(conv_mine) for _ in range(10)]\n",
    "ifs_theirs = [iaf(conv_mine.reshape(1,1,8,34,34)) for _ in range(10)]\n",
    "\n",
    "for i in range(10):\n",
    "    print(f'{torch.nonzero(ifs_mine[i]).shape[0]} -> ', end='')\n",
    "print()\n",
    "\n",
    "for i in range(10):\n",
    "    print(f'{torch.nonzero(ifs_theirs[i]).shape[0]} -> ', end='')\n",
    " print()\n"
   ]
  },
  {
   "cell_type": "code",
   "execution_count": 41,
   "id": "f0630d17-f244-4517-ad0d-ee13d2e69f74",
   "metadata": {
    "collapsed": false
   },
   "outputs": [
    {
     "data": {
      "text/plain": [
       "array([0., 1., 1., 1., 1., 1., 1., 1., 1., 1., 1., 1., 1., 1., 1., 1., 1.,\n",
       "       1., 1., 1., 1., 1., 1., 1., 1., 1., 1., 1., 1., 1., 1., 1., 1., 1.],\n",
       "      dtype=float32)"
      ]
     },
     "execution_count": 41,
     "metadata": {},
     "output_type": "execute_result"
    }
   ],
   "source": [
    "if_torch_np[0,0,0,0]"
   ]
  },
  {
   "cell_type": "code",
   "execution_count": 42,
   "id": "8e5cc6fe-bbbf-46f8-94e5-934135af5d64",
   "metadata": {
    "collapsed": false
   },
   "outputs": [],
   "source": [
    "if_torch_np = ifs_theirs[0].detach().numpy()\n",
    "np.save('./tensors/if-torch.npy', if_torch_np)"
   ]
  },
  {
   "cell_type": "code",
   "execution_count": 221,
   "id": "c5646d4b-f21d-4717-a55e-d2ec08128e2b",
   "metadata": {
    "collapsed": false
   },
   "outputs": [],
   "source": [
    "lel = modules[1](modules[0](torch.ones([2, 34, 34]))\n",
    "           )\n"
   ]
  },
  {
   "cell_type": "code",
   "execution_count": 228,
   "id": "d9755aa0-28fd-4865-adb0-8f06de2fd8dd",
   "metadata": {
    "collapsed": false
   },
   "outputs": [],
   "source": [
    "def avg_pool2d(x):\n",
    "    kernel = (2,2)\n",
    "    stride = 2\n",
    "    padding = 0\n",
    "\n",
    "    # Create output buffer\n",
    "    H_out = math.floor((x.shape[1] + (2 * padding) - kernel[0]) / stride) + 1\n",
    "    W_out = math.floor((x.shape[2] + (2 * padding) - kernel[0]) / stride) + 1\n",
    "    output = torch.zeros((x.shape[0], H_out, W_out))\n",
    "\n",
    "    # Zero pad\n",
    "    data_padded = torch.zeros(x.shape[0],\n",
    "                              x.shape[1] + 2*padding,\n",
    "                              x.shape[2] + 2*padding)\n",
    "    data_padded[:, padding:x.shape[1] + padding, padding:x.shape[2] + padding] = x.cpu()\n",
    "\n",
    "    coordinate_pairs = [(a, b) for a in range(H_out) for b in range(W_out)]\n",
    "    coordinate_pairs.sort()\n",
    "    kernel_pairs = [(a, b) for a in range(kernel[0]) for b in range(kernel[1])]\n",
    "    kernel_pairs.sort()\n",
    "    for c in range(output.shape[0]):\n",
    "        for (h, w) in coordinate_pairs:\n",
    "            # Apply kernel\n",
    "            kernel_sum = 0\n",
    "            for (m, n) in kernel_pairs:\n",
    "                kernel_sum += data_padded[c, stride * h + m, stride * w + n]\n",
    "            output[c, h, w] = 1 / (kernel[0] * kernel[1]) * kernel_sum\n",
    "\n",
    "    return output                         "
   ]
  },
  {
   "cell_type": "code",
   "execution_count": 231,
   "id": "4030c805-33ad-4ab1-913c-a98c6069a767",
   "metadata": {
    "collapsed": false
   },
   "outputs": [
    {
     "name": "stdout",
     "output_type": "stream",
     "text": [
      "True: 2312, False: 0\n"
     ]
    }
   ],
   "source": [
    "x = ifs_mine[0]\n",
    "pool = nn.AvgPool2d(2, 2)\n",
    "\n",
    "pool_mine = avg_pool2d(x)\n",
    "pool_torch = pool(x.unsqueeze(0))\n",
    "\n",
    "precision = 5\n",
    "mine_round = torch.round(pool_mine * 10**precision) / 10**precision\n",
    "torch_round = torch.round(pool_torch * 10**precision) / 10**precision\n",
    "num_true = torch.sum(mine_round == torch_round).item()\n",
    "num_false = (mine_round==torch_round).numel() - num_true\n",
    "print(f'True: {num_true}, False: {num_false}')\n",
    "#false_indexes = torch.nonzero((pool_mine == pool_torch) == False, as_tuple=False)\n"
   ]
  },
  {
   "cell_type": "code",
   "execution_count": 237,
   "id": "585351be-db5a-4c2e-adca-6eabe7a0384f",
   "metadata": {
    "collapsed": false
   },
   "outputs": [],
   "source": [
    "pool_torch_np = pool_torch.detach().numpy()\n",
    "pool_mine_np = pool_mine.detach().numpy()\n",
    "\n",
    "np.save('./tensors/pool-torch.npy', pool_torch_np)\n",
    "np.save('./tensors/pool-mine.npy', pool_mine_np)"
   ]
  },
  {
   "cell_type": "code",
   "execution_count": 252,
   "id": "a9a65136-851e-4874-921d-ef7b959427c9",
   "metadata": {
    "collapsed": false
   },
   "outputs": [
    {
     "data": {
      "text/plain": [
       "torch.Size([1, 2, 34, 34])"
      ]
     },
     "execution_count": 252,
     "metadata": {},
     "output_type": "execute_result"
    }
   ],
   "source": []
  },
  {
   "cell_type": "code",
   "execution_count": 345,
   "id": "8a9d5ad3-29f5-4f02-9eab-b75013426375",
   "metadata": {
    "collapsed": false
   },
   "outputs": [
    {
     "data": {
      "text/plain": [
       "(100, 2, 34, 34)"
      ]
     },
     "execution_count": 345,
     "metadata": {},
     "output_type": "execute_result"
    }
   ],
   "source": [
    "x = sample_data.cpu()\n",
    "saved_x = x.detach().numpy()\n",
    "np.save('./tensors/sample-data.npy', saved_x)\n",
    "saved_x.shape"
   ]
  },
  {
   "cell_type": "code",
   "execution_count": 349,
   "id": "8fcbd6ef-4f13-41b6-aa60-eab311ee1e6c",
   "metadata": {
    "collapsed": false
   },
   "outputs": [
    {
     "data": {
      "text/plain": [
       "torch.Size([100, 10])"
      ]
     },
     "execution_count": 349,
     "metadata": {},
     "output_type": "execute_result"
    }
   ],
   "source": [
    "snn = from_model(model=model, input_shape=(2, 34, 34), batch_size=1, spike_fn=spikegen.SingleSpike).spiking_model.to('cpu')\n",
    "with torch.no_grad():\n",
    "    saved_output = snn(x.squeeze(0))\n",
    "\n",
    "np.save('./tensors/output.npy', saved_output)\n",
    "saved_output.shape"
   ]
  },
  {
   "cell_type": "code",
   "execution_count": 398,
   "id": "0bd8014a-d5f5-4ee7-af91-5eee35ab59d3",
   "metadata": {
    "collapsed": false
   },
   "outputs": [],
   "source": [
    "def get_module_name(input_string):\n",
    "    input_string = str(input_string)\n",
    "    # Pattern to match the function name and contents within first\n",
    "    pattern = r\"^([a-zA-Z_][a-zA-Z0-9_]*)\\(.*\"\n",
    "    \n",
    "    match = re.match(pattern, input_string)\n",
    "    if match:\n",
    "        return match.group(1)  # Return the function name\n",
    "    else:\n",
    "        return None  # If there's no match"
   ]
  },
  {
   "cell_type": "code",
   "execution_count": 459,
   "id": "e6597f56-16eb-4c81-ba4c-c5f14f1edf66",
   "metadata": {
    "collapsed": false
   },
   "outputs": [
    {
     "name": "stdout",
     "output_type": "stream",
     "text": [
      "Doing 0 - Conv2d\n",
      "\tSaved weights ../src/c-snn/weights/0-Conv2d.npy : torch.Size([100, 2, 34, 34])\n",
      "Doing 1 - IAFSqueeze\n",
      "\tSaved recordings ../src/c-snn/tensors/recording-1-IAFSqueeze.npy : torch.Size([100, 8, 34, 34])\n",
      "Doing 2 - AvgPool2d\n",
      "Doing 3 - Conv2d\n",
      "\tSaved weights ../src/c-snn/weights/3-Conv2d.npy : torch.Size([100, 8, 17, 17])\n",
      "Doing 4 - IAFSqueeze\n",
      "\tSaved recordings ../src/c-snn/tensors/recording-4-IAFSqueeze.npy : torch.Size([100, 16, 17, 17])\n",
      "Doing 5 - AvgPool2d\n",
      "Doing 6 - Conv2d\n",
      "\tSaved weights ../src/c-snn/weights/6-Conv2d.npy : torch.Size([100, 16, 8, 8])\n",
      "Doing 7 - IAFSqueeze\n",
      "\tSaved recordings ../src/c-snn/tensors/recording-7-IAFSqueeze.npy : torch.Size([100, 16, 4, 4])\n",
      "Doing 8 - Flatten\n",
      "Doing 9 - Linear\n",
      "\tSaved weights ../src/c-snn/weights/9-Linear.npy : torch.Size([100, 256])\n",
      "Doing 10 - IAFSqueeze\n",
      "\tSaved recordings ../src/c-snn/tensors/recording-10-IAFSqueeze.npy : torch.Size([100, 10])\n",
      "Saved ../src/c-snn/tensors/output-9-IAFSqueeze.npy : torch.Size([100, 10])\n"
     ]
    }
   ],
   "source": [
    "snn = from_model(model=model, input_shape=(2, 34, 34), batch_size=1, spike_fn=spikegen.SingleSpike).spiking_model.to('cpu')\n",
    "\n",
    "lin = None\n",
    "stop = 10\n",
    "name = None\n",
    "data = x\n",
    "with torch.no_grad():\n",
    "    for (i, m) in enumerate(list(snn.modules())[1:]):\n",
    "        mod_name = get_module_name(m)\n",
    "        if i == stop:\n",
    "            print(f'Stopping at {i} - {mod_name}')\n",
    "            break\n",
    "        print(f'Doing {i} - {mod_name}')\n",
    "       \n",
    "        if (mod_name == 'Conv2d') or mod_name == 'Linear':\n",
    "            save_name = f'./weights/{i}-{mod_name}.npy'\n",
    "            np.save(save_name, list(m.parameters())[0])\n",
    "            print(f'\\tSaved weights {save_name} : {data.shape}')\n",
    "\n",
    "        if mod_name == 'Linear':\n",
    "            lin = m\n",
    "\n",
    "        if mod_name == 'IAFSqueeze':\n",
    "            m.record_states = True\n",
    "\n",
    "        data = m(data)\n",
    "        if mod_name == 'IAFSqueeze':\n",
    "            save_name = f'./tensors/recording-{i}-{mod_name}.npy'\n",
    "            np.save(save_name, m.recordings['v_mem'].squeeze())\n",
    "            print(f'\\tSaved recordings {save_name} : {data.shape}')\n",
    "        name = mod_name\n",
    "\n",
    "save_name = f'./tensors/output-{i-1}-{name}.npy'\n",
    "np.save(save_name, data)\n",
    "print(f'Saved {save_name} : {data.shape}')"
   ]
  },
  {
   "cell_type": "code",
   "execution_count": 463,
   "id": "bc28e8cf-c4d3-4e19-848c-9c65f9fbd5ec",
   "metadata": {
    "collapsed": false
   },
   "outputs": [
    {
     "data": {
      "text/plain": [
       "tensor([-2.6361,  2.3727,  3.0525,  2.6921, -1.6624, -0.8216, -0.1405, -0.8961,\n",
       "        -3.1682, -2.8986], grad_fn=<SqueezeBackward4>)"
      ]
     },
     "execution_count": 463,
     "metadata": {},
     "output_type": "execute_result"
    }
   ],
   "source": [
    "linx = torch.ones((256,))\n",
    "lin(linx)"
   ]
  },
  {
   "cell_type": "code",
   "execution_count": 423,
   "id": "039cdc82-36d2-4030-bc6c-89fc92429d4b",
   "metadata": {
    "collapsed": false
   },
   "outputs": [],
   "source": [
    "def getIndex(dims, shape):\n",
    "    v_index = dims[0];\n",
    "    for i in range(1, len(dims), 1):\n",
    "        v_index = v_index * shape[i] + dims[i]\n",
    "    return v_index"
   ]
  },
  {
   "cell_type": "code",
   "execution_count": 442,
   "id": "b965058b-3bf5-4493-ba7d-e2cee9638333",
   "metadata": {
    "collapsed": false
   },
   "outputs": [
    {
     "data": {
      "text/plain": [
       "6169"
      ]
     },
     "execution_count": 442,
     "metadata": {},
     "output_type": "execute_result"
    }
   ],
   "source": [
    "golden = [5,11,15]\n",
    "getIndex(golden, [8, 34, 34])"
   ]
  },
  {
   "cell_type": "code",
   "execution_count": 458,
   "id": "4f4823db-cc33-457a-a97d-f400d3dbc191",
   "metadata": {
    "collapsed": false
   },
   "outputs": [
    {
     "name": "stdout",
     "output_type": "stream",
     "text": [
      "hi\n"
     ]
    }
   ],
   "source": [
    "print('hi')"
   ]
  }
 ],
 "metadata": {
  "kernelspec": {
   "argv": [
    "python",
    "-m",
    "ipykernel_launcher",
    "-f",
    "{connection_file}"
   ],
   "display_name": "Python 3 (ipykernel)",
   "env": null,
   "interrupt_mode": "signal",
   "language": "python",
   "metadata": {
    "debugger": true
   },
   "name": "python3"
  },
  "name": "snn-training.ipynb"
 },
 "nbformat": 4,
 "nbformat_minor": 5
}
